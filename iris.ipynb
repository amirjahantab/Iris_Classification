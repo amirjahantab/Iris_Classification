{
 "cells": [
  {
   "cell_type": "markdown",
   "id": "b3cd5146-3850-4cb8-82c7-bf80e6a1887c",
   "metadata": {},
   "source": [
    "# the Iris Dataset\n",
    "\n",
    "**The data consist of the following:** \n",
    "\n",
    "- **Features** in the Iris dataset:\n",
    "\n",
    "  1. sepal length in cm\n",
    "  2. sepal width in cm\n",
    "  3. petal length in cm\n",
    "  4. petal width in cm\n",
    "\n",
    "\n",
    "- **Target classes** to predict:\n",
    "\n",
    "  1. Iris Setosa\n",
    "  2. Iris Versicolour\n",
    "  3. Iris Virginica"
   ]
  },
  {
   "cell_type": "code",
   "execution_count": 2,
   "id": "0ad886a6-f83c-4e93-8918-9179ab6aa3d7",
   "metadata": {},
   "outputs": [],
   "source": [
    "from sklearn.datasets import load_iris\n",
    "iris = load_iris()"
   ]
  },
  {
   "cell_type": "code",
   "execution_count": null,
   "id": "6dba8558-37cf-4022-99af-f66b7ff4fbf1",
   "metadata": {},
   "outputs": [],
   "source": [
    "# print(iris.DESCR)"
   ]
  },
  {
   "cell_type": "markdown",
   "id": "dc9f9da9-2d28-4c8b-83cf-96ef43c69be0",
   "metadata": {
    "jp-MarkdownHeadingCollapsed": true
   },
   "source": [
    "## K-nearest neighbor (KNN)"
   ]
  },
  {
   "cell_type": "markdown",
   "id": "0ffbf8e6-3bb2-40ff-a1c3-c014334a2a1d",
   "metadata": {},
   "source": [
    "The K-nearest neighbor (KNN) classifier is a simple, non-parametric algorithm used for classification (and regression). The idea is to classify a new input $\\mathbf{x} \\$ based on the labels of its K nearest neighbors in the training set.\n",
    "\n",
    "### Formula Explanation\n",
    "\n",
    "#### Formula \n",
    "$\\ p(y = c \\mid \\mathbf{x}, \\mathcal{D}) = \\frac{1}{K} \\sum_{n \\in N_K(\\mathbf{x}, \\mathcal{D})} \\mathbb{I}(y_n = c) \\$\n",
    "\n",
    "This formula calculates the probability that the new input \\( \\mathbf{x} \\) belongs to class \\( c \\).\n",
    "\n",
    "- $\\mathbf{x} $: The new input vector we want to classify.\n",
    "- $\\mathcal{D} $: The training dataset.\n",
    "- $\\ N_K(\\mathbf{x}, \\mathcal{D}) $: The set of the K nearest neighbors to $\\mathbf{x}$ in the training set $\\mathcal{D}$.\n",
    "- $\\ y_n $: The label of the $\\ n $-th nearest neighbor.\n",
    "- $\\ \\mathbb{I}(y_n = c) $: An indicator function that is 1 if $\\ y_n = c $ (the label of the neighbor is class $\\ c $), and 0 otherwise.\n",
    "- $\\ \\frac{1}{K} $: Normalizes the sum by the number of neighbors $K$, giving the average probability.\n",
    "\n",
    "### Steps to Calculate the Probability:\n",
    "1. **Identify Neighbors**: Find the $K$ nearest neighbors to $\\mathbf{x}$ in the training data.\n",
    "2. **Compute Labels**: Check the labels of these $K$ neighbors.\n",
    "3. **Count Class Instances**: Count how many of these $K$ neighbors have the label $c$.\n",
    "4. **Calculate Probability**: Divide the count by $K$ to get the probability that $\\mathbf{x}$ belongs to class $c$.\n",
    "\n",
    "#### Formula \n",
    "$\\ d_M(\\mathbf{x}, \\mu) = \\sqrt{(\\mathbf{x} - \\mu)^\\top \\mathbf{M}(\\mathbf{x} - \\mu)} $\n",
    "\n",
    "This formula represents the Mahalanobis distance, which is a distance measure that takes into account the correlations of the data.\n",
    "\n",
    "- $\\mathbf{x}$: The vector of the point whose distance to the mean $\\mu$ is being measured.\n",
    "- $\\mu$: The mean vector of the distribution.\n",
    "- $\\mathbf{M}$: A positive definite matrix (often the inverse of the covariance matrix of the data).\n",
    "- $\\ (\\mathbf{x} - \\mu)^\\top $: The transpose of the vector difference $\\mathbf{x} - \\mu $ .\n",
    "\n",
    "### Steps to Calculate the Mahalanobis Distance:\n",
    "1. **Subtract Mean**: Compute $\\ \\mathbf{x} - \\mu $.\n",
    "2. **Transpose**: Compute the transpose $\\ (\\mathbf{x} - \\mu)^\\top $.\n",
    "3. **Matrix Multiplication**: Multiply the transpose by the matrix $\\ \\mathbf{M}$, and then by $\\ (\\mathbf{x} - \\mu)$.\n",
    "4. **Square Root**: Take the square root of the result to get the Mahalanobis distance.\n",
    "\n",
    "### Summary\n",
    "\n",
    "- **KNN Classification**: To classify a new input, we look at its K nearest neighbors in the training set and use their labels to compute the probability of each class.\n",
    "- **Distance Metric**: The Mahalanobis distance is one way to measure the \"closeness\" of points, taking into account the shape of the data distribution. If $\\ \\mathbf{M} = \\mathbf{I}$ (the identity matrix), the Mahalanobis distance reduces to the Euclidean distance.\n",
    "\n",
    "Understanding these concepts allows us to implement the KNN classifier effectively, using the appropriate distance metrics to improve classification accuracy based on the nature of the data."
   ]
  },
  {
   "cell_type": "code",
   "execution_count": 4,
   "id": "6fac1e02-a4d4-40cf-ad03-363930b0d73e",
   "metadata": {},
   "outputs": [],
   "source": [
    "from sklearn.neighbors import KNeighborsClassifier\n",
    "knn = KNeighborsClassifier(n_neighbors=3)"
   ]
  },
  {
   "cell_type": "code",
   "execution_count": 6,
   "id": "68aa2a63-4b30-4ad1-bc3e-87921c2b4d6e",
   "metadata": {},
   "outputs": [],
   "source": [
    "X, y = iris.data, iris.target"
   ]
  },
  {
   "cell_type": "code",
   "execution_count": 8,
   "id": "86b4dcd7-702f-4e06-850f-89765cdf370b",
   "metadata": {},
   "outputs": [
    {
     "name": "stdout",
     "output_type": "stream",
     "text": [
      "[1 1 1 0 0 2 1 1 1 0 1 0 2 0 0 2 0 2 1 1 0 0 2 1 2 1 0 1 1 1 2 1 2 2 0 0 2\n",
      " 2 0 0 2 2 2 2 0 2 0 2 1 1 0 2 2 0 2 1 2 1 2 1 1 0 0 1 2 0 0 2 2 1 0 1 0 0\n",
      " 1]\n",
      "[0 2 1 0 2 0 1 2 0 0 2 1 2 0 1 2 2 2 2 2 1 2 1 1 2 2 0 0 1 0 0 2 0 1 0 0 1\n",
      " 1 2 2 0 1 0 1 1 2 0 1 1 1 0 2 2 2 1 0 0 1 1 0 2 1 0 2 0 2 1 1 2 0 2 1 0 0\n",
      " 1]\n"
     ]
    }
   ],
   "source": [
    "from sklearn.model_selection import train_test_split\n",
    "\n",
    "X_train, X_test, y_train, y_test = train_test_split(X, y,\n",
    "                                                    test_size=0.5,\n",
    "                                                    random_state=123,\n",
    "                                                    stratify=y,\n",
    "                                                   )\n",
    "print(y_train);print(y_test)"
   ]
  },
  {
   "cell_type": "code",
   "execution_count": 10,
   "id": "4f391ef5-be34-47ec-ae1e-e4c3145ac6ea",
   "metadata": {},
   "outputs": [],
   "source": [
    "knn.fit(X_train, y_train)\n",
    "y_pred = knn.predict(X_test)"
   ]
  },
  {
   "cell_type": "code",
   "execution_count": 12,
   "id": "fde43703-a0bf-4a11-9f67-ce9970480794",
   "metadata": {},
   "outputs": [
    {
     "name": "stdout",
     "output_type": "stream",
     "text": [
      "The Accuracy Of The Training Set: 98.666667%\n",
      "The Accuracy Of The Test Set: 94.666667%\n"
     ]
    }
   ],
   "source": [
    "print(f'The Accuracy Of The Training Set: {knn.score(X_train, y_train):%}')\n",
    "print(f'The Accuracy Of The Test Set: {knn.score(X_test, y_test):%}')"
   ]
  },
  {
   "cell_type": "code",
   "execution_count": 16,
   "id": "5373a5bd-4e08-45da-bb77-74eeae404840",
   "metadata": {},
   "outputs": [
    {
     "name": "stdout",
     "output_type": "stream",
     "text": [
      "Samples correctly classified:\n",
      "[ 0  1  2  3  4  5  6  7  8  9 10 11 12 13 14 15 16 17 18 19 20 21 22 23\n",
      " 24 25 26 27 28 29 30 31 32 33 34 35 36 37 38 39 40 41 42 43 45 46 47 48\n",
      " 50 51 52 53 55 56 57 58 59 61 62 63 64 65 66 67 68 69 70 71 72 73 74]\n",
      "\n",
      "Samples incorrectly classified:\n",
      "[44 49 54 60]\n"
     ]
    }
   ],
   "source": [
    "import numpy as np\n",
    "\n",
    "print('Samples correctly classified:')\n",
    "corrent_index = np.where(y_pred == y_test)[0]\n",
    "print(corrent_index)\n",
    "\n",
    "print('\\nSamples incorrectly classified:')\n",
    "incorrect_idx = np.where(y_pred != y_test)[0]\n",
    "print(incorrect_idx)"
   ]
  },
  {
   "cell_type": "code",
   "execution_count": 18,
   "id": "26d022d0-bb00-49e2-9f35-34964d5d14c3",
   "metadata": {},
   "outputs": [
    {
     "data": {
      "image/png": "[encoded data removed]",
      "text/plain": [
       "<Figure size 700x400 with 1 Axes>"
      ]
     },
     "metadata": {},
     "output_type": "display_data"
    }
   ],
   "source": [
    "import matplotlib.pyplot as plt\n",
    "\n",
    "x1_index = 0\n",
    "x2_index = 3\n",
    "\n",
    "plt.figure(figsize=(7, 4))\n",
    "colors = [\"darkblue\", \"darkgreen\", \"gray\"]\n",
    "\n",
    "for n, color in enumerate(colors): # [(0, 'darkblue'), (1, 'darkgreen'), (2, 'gray')]\n",
    "    idx = np.where(y_test == n)[0]\n",
    "    plt.scatter(X_test[idx, x1_index], X_test[idx, x2_index], color=color)\n",
    "\n",
    "plt.scatter(X_test[incorrect_idx, x1_index], X_test[incorrect_idx, x2_index], color=\"red\")\n",
    "\n",
    "plt.xlabel(iris.feature_names[x1_index])\n",
    "plt.ylabel(iris.feature_names[x2_index])\n",
    "plt.legend(iris.target_names)\n",
    "plt.title(\"Iris Classification results\")\n",
    "plt.show()"
   ]
  },
  {
   "cell_type": "markdown",
   "id": "7ed187c1-d2cd-4dcf-aea8-86c2b9f949aa",
   "metadata": {},
   "source": [
    "## Multi-layer Perceptron classifier.\n",
    "\n",
    "This model optimizes the log-loss function using LBFGS or stochastic\n",
    "gradient descent."
   ]
  },
  {
   "cell_type": "code",
   "execution_count": 20,
   "id": "7e26acb2-75e0-42d7-bc01-53f0a02a369f",
   "metadata": {
    "scrolled": true
   },
   "outputs": [],
   "source": [
    "from sklearn.neural_network import MLPClassifier\n",
    "import numpy as np\n",
    "\n",
    "clf = MLPClassifier(solver='adam', hidden_layer_sizes=(100,100),  max_iter=300)\n",
    "clf.fit(X_train, y_train)\n",
    "y_hat = clf.predict(X_test)"
   ]
  },
  {
   "cell_type": "code",
   "execution_count": 22,
   "id": "d1395998-550b-4df2-96c5-72a3f314bbb0",
   "metadata": {},
   "outputs": [
    {
     "name": "stdout",
     "output_type": "stream",
     "text": [
      "The Accuracy Of The Training Set: 98.67%\n",
      "The Accuracy Of The Test Set: 96.00%\n"
     ]
    }
   ],
   "source": [
    "print(f'The Accuracy Of The Training Set: {clf.score(X_train, y_train):.2%}')\n",
    "print(f'The Accuracy Of The Test Set: {clf.score(X_test, y_test):.2%}')"
   ]
  },
  {
   "cell_type": "code",
   "execution_count": 26,
   "id": "7549edee-044c-4840-91a0-cb895d7ef133",
   "metadata": {},
   "outputs": [
    {
     "name": "stdout",
     "output_type": "stream",
     "text": [
      "Samples correctly classified:\n",
      "[ 0  1  2  3  4  5  6  7  8  9 10 11 12 13 14 15 16 17 18 19 20 21 22 23\n",
      " 24 25 26 27 28 29 30 31 32 33 34 35 36 37 38 39 40 41 42 43 45 46 47 48\n",
      " 49 50 52 54 55 56 57 58 59 60 61 62 63 64 65 66 67 68 69 70 71 72 73 74]\n",
      "\n",
      "Samples incorrectly classified:\n",
      "[44 51 53]\n"
     ]
    }
   ],
   "source": [
    "print('Samples correctly classified:')\n",
    "corrent_index = np.where(y_hat == y_test)[0]\n",
    "print(corrent_index)\n",
    "\n",
    "print('\\nSamples incorrectly classified:')\n",
    "incorrect_idx = np.where(y_hat != y_test)[0]\n",
    "print(incorrect_idx)"
   ]
  },
  {
   "cell_type": "markdown",
   "id": "1fc3b88e-8e1d-4d5d-8506-89cff3ee0cb2",
   "metadata": {},
   "source": [
    "### visualization data"
   ]
  },
  {
   "cell_type": "code",
   "execution_count": 29,
   "id": "57cd6e85-1450-4139-ac4e-edda293273e6",
   "metadata": {},
   "outputs": [
    {
     "data": {
      "image/png": "[encoded data removed]",
      "text/plain": [
       "<Figure size 700x400 with 1 Axes>"
      ]
     },
     "metadata": {},
     "output_type": "display_data"
    }
   ],
   "source": [
    "import matplotlib.pyplot as plt\n",
    "x1_index = 0\n",
    "x2_index = 3\n",
    "\n",
    "plt.figure(figsize=(7, 4))\n",
    "colors = [\"darkblue\", \"darkgreen\", \"gray\"]\n",
    "\n",
    "for n, color in enumerate(colors): # [(0, 'darkblue'), (1, 'darkgreen'), (2, 'gray')]\n",
    "    idx = np.where(y_test == n)[0]\n",
    "    plt.scatter(X_test[idx, x1_index], X_test[idx, x2_index], color=color)\n",
    "\n",
    "plt.scatter(X_test[incorrect_idx, x1_index], X_test[incorrect_idx, x2_index], color=\"red\")\n",
    "\n",
    "plt.xlabel(iris.feature_names[x1_index])\n",
    "plt.ylabel(iris.feature_names[x2_index])\n",
    "plt.legend(iris.target_names)\n",
    "plt.title(\"Iris Classification results\")\n",
    "plt.show()"
   ]
  },
  {
   "cell_type": "code",
   "execution_count": null,
   "id": "7a2a9e37-0a52-4031-b49b-ae6e895b2a3e",
   "metadata": {},
   "outputs": [],
   "source": []
  }
 ],
 "metadata": {
  "kernelspec": {
   "display_name": "Python 3 (ipykernel)",
   "language": "python",
   "name": "python3"
  },
  "language_info": {
   "codemirror_mode": {
    "name": "ipython",
    "version": 3
   },
   "file_extension": ".py",
   "mimetype": "text/x-python",
   "name": "python",
   "nbconvert_exporter": "python",
   "pygments_lexer": "ipython3",
   "version": "3.12.4"
  }
 },
 "nbformat": 4,
 "nbformat_minor": 5
}
